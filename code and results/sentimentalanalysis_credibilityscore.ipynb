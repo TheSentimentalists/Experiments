{
 "cells": [
  {
   "cell_type": "code",
   "execution_count": 4,
   "metadata": {},
   "outputs": [
    {
     "data": {
      "text/plain": [
       "(75.0, 'Right', 'Media Bias/Fact Check')"
      ]
     },
     "execution_count": 4,
     "metadata": {},
     "output_type": "execute_result"
    }
   ],
   "source": [
    "def getReliabilityScore(url):\n",
    "    import requests\n",
    "    \n",
    "    Gate_Source_Cred_API = \"https://cloud-api.gate.ac.uk/process-document/source-credibility?annotations=:DomainCredibility\"\n",
    "    reliability_txt = requests.post(Gate_Source_Cred_API, data = url, headers={'Content-Type': 'text/plain'}, \n",
    "                                    auth=('gcc3g8cmwyob', '8ypn2huuqhu43zm3i2in'))\n",
    "    rel_json = reliability_txt.json()\n",
    "    #print(rel_json)\n",
    "    if (rel_json['entities'] != {}):\n",
    "        for item in rel_json['entities']['DomainCredibility']:\n",
    "            p_score = item.get('credibility-score', 0)\n",
    "            p_category = item.get('credibility-category', '')\n",
    "            p_source = item.get('credibility-source', '')\n",
    "\n",
    "            if item['credibility-source'] == 'Media Bias/Fact Check':\n",
    "                return(p_score, p_category, p_source)\n",
    "    else:\n",
    "        return(-1)\n",
    "    \n",
    "    ## in case there is no 'Media Bias/Fact Check' but a different source:\n",
    "    return(p_score, p_category, p_source)\n",
    "url=\"https://www.foxnews.com/\"\n",
    "getReliabilityScore(url)"
   ]
  },
  {
   "cell_type": "code",
   "execution_count": null,
   "metadata": {},
   "outputs": [],
   "source": []
  },
  {
   "cell_type": "code",
   "execution_count": null,
   "metadata": {},
   "outputs": [],
   "source": []
  },
  {
   "cell_type": "code",
   "execution_count": null,
   "metadata": {},
   "outputs": [],
   "source": []
  }
 ],
 "metadata": {
  "kernelspec": {
   "display_name": "Python 3",
   "language": "python",
   "name": "python3"
  },
  "language_info": {
   "codemirror_mode": {
    "name": "ipython",
    "version": 3
   },
   "file_extension": ".py",
   "mimetype": "text/x-python",
   "name": "python",
   "nbconvert_exporter": "python",
   "pygments_lexer": "ipython3",
   "version": "3.7.6"
  }
 },
 "nbformat": 4,
 "nbformat_minor": 4
}

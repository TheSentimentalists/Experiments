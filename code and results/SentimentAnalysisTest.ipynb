{
 "cells": [
  {
   "cell_type": "code",
   "execution_count": 1,
   "metadata": {},
   "outputs": [],
   "source": [
    "### https://towardsdatascience.com/my-absolute-go-to-for-sentiment-analysis-textblob-3ac3a11d524\n",
    "###\n",
    "### Subjectivity quantifies the amount of personal opinion and factual information\n",
    "### contained in the text. The higher subjectivity means that the text contains\n",
    "### personal opinion rather than factual information.\n",
    "\n",
    "from textblob import TextBlob"
   ]
  },
  {
   "cell_type": "code",
   "execution_count": null,
   "metadata": {},
   "outputs": [],
   "source": []
  },
  {
   "cell_type": "code",
   "execution_count": null,
   "metadata": {},
   "outputs": [],
   "source": []
  },
  {
   "cell_type": "code",
   "execution_count": 2,
   "metadata": {},
   "outputs": [],
   "source": [
    "def getText(url):\n",
    "    from newspaper import Article\n",
    "    ### Getting the Text\n",
    "    article = Article(url)\n",
    "    article.download()\n",
    "    article.parse()\n",
    "    text = article.text\n",
    "    ### Removing unwanted formatting\n",
    "    text = text.replace(\"\\n\\n\", \"\")\n",
    "    text = text.replace(\"Image copyright Getty Images \", \"\")\n",
    "    text = text.replace(\"Image copyright Getty Images/Reuters\", \"\")\n",
    "    text = text.replace(\"Image caption \", \"\")\n",
    "    text = text.replace(\"Media playback is unsupported on your device \", \"\")\n",
    "    text = text.replace(\"Media caption \", \"\")\n",
    "    return(text);\n",
    "\n",
    "def sentimentAnalysis(url):\n",
    "    from textblob import TextBlob\n",
    "    text = getText(url)\n",
    "    ### analysing the text \n",
    "    testimonial = TextBlob(text)\n",
    "    ## use the output as \"analysed_txt.sentiment\" or \"analysed_txt.sentences\"\n",
    "    return(testimonial); \n",
    " \n",
    "def getArticle(url):\n",
    "    from newspaper import Article\n",
    "    ## use the output to get features such as \"article.top_image\", \"article.keywords\", \"article.summary\"    \n",
    "    article = Article(url)\n",
    "    article.download()\n",
    "    article.parse()\n",
    "    article.nlp()\n",
    "    return(article)"
   ]
  },
  {
   "cell_type": "code",
   "execution_count": 3,
   "metadata": {},
   "outputs": [
    {
     "data": {
      "text/plain": [
       "'The FTSE 100 saw its worst day since JuneThe FTSE 100 has suffered its worst day in three months after share prices slumped due to fears that a second coronavirus lockdown is on the way.Companies in the travel, retail and hospitality sectors all saw the value of their shares tumble as the UK’s top scientific advisors warned the country could be heading for 50,000 cases a day by mid-October.The market closed at a loss of 202 points, or 3.38% – the worst day since June 11. Markets in New York, Frankfurt, Madrid and Paris were all similarly affected.Analysts said up to £50 billion was wiped off the value of companies on the FTSE over the course of the day.AdvertisementAdvertisementAmong the worst hit was British Airways owner IAG, which was down more than 12% to its lowest level since 2012. The airline has already had to make 10,000 staff redundant since the start of the pandemic.Visit our live blog for the latest updates Coronavirus news livePub firms Mitchell & Butlers and JD Wetherspoon also both plunged in value amid speculation that a 10pm curfew is going to be imposed on the hospitality sector imminently.Richard Hunter, head of markets at interactive investor, said: ‘With no confirmed vaccine for the coronavirus as autumn approaches, there is likely to be additional strain on government resources as they attempt to stave off a second wave, as the colder weather inevitably brings further cases to contend with.‘Prospects for a sharp economic recovery have all but disappeared, as global growth receives the new threat of a resurgent pandemic.’Tesco, Morrisons and Sainsbury were among the few to see share prices rise after they benefited from higher levels of spending during the first lockdown. Similarly companies focused on home delivery like JustEat also did well.Connor Campbell, financial analyst at Spreadex, said: ‘Months of warning signs and buried fears struck at once on Monday, the market buckling under the threat of another round of national lockdowns.‘Though most of the headlines have been focused on Europe, the United States is having its own nightmare.‘There’s no bipartisan fiscal stimulus in sight, an already heated election just got all the more intense following the death of Ruth Bader Ginsburg, and Covid-19-related deaths are fast approaching 200,000.’Adding to concerns about the impact of a second lockdown was news that the banking industry has been hit by money laundering allegations.HSBC, one of the banks accused in a number of leaked documents, saw its share price fall to its lowest level since 1995.Get in touch with our news team by emailing us at webnews@metro.co.uk.For more stories like this, check our news page.Advertisement Advertisement'"
      ]
     },
     "execution_count": 3,
     "metadata": {},
     "output_type": "execute_result"
    }
   ],
   "source": [
    "url = \"https://metro.co.uk/2020/09/21/ftse-100-suffers-worst-day-since-mid-june-as-shares-tumble-over-lockdown-fears-13304315/\"\n",
    "#url = \"https://www.thesun.co.uk/news/12710493/jeremy-clarkson-task-force-fix-a-bridge/\"\n",
    "#url = \"https://www.foxnews.com/politics/graham-senate-gop-votes-confirm-scotus-nominee\"\n",
    "#url = \"https://www.republicworld.com/india-news/law-and-order/in-sushant-case-rhea-chakrabortys-judicial-custody-extended-till-oct.html\"\n",
    "#url = \"https://www.ndtv.com/india-news/mistry-family-says-its-time-to-separate-from-tata-group-2299519?pfrom=home-topscroll\"\n",
    "#url = \"https://www.breitbart.com/tech/2020/09/22/deleted-bombshell-book-exposing-big-tech-released-today\"\n",
    "#url = \"https://www.msnbc.com/morning-joe/watch/h-r-mcmaster-china-is-a-rival-and-we-need-to-compete-92308549729\"\n",
    "#url = \"https://www.bbc.co.uk/news/uk-wales-54167804\"\n",
    "#url = https://www.huffingtonpost.co.uk/entry/trump-violence-reporters-beautiful-sight_n_5f6ab53ec5b629afbe98284d?ri18n=true\"\n",
    "#url = \"https://www.edition.cnn.com/2020/09/22/asia/japan-mixed-roots-hafu-dst-hnk-intl/index.html\"\n",
    "#url = \"https://www.motherjones.com/environment/2020/09/fire-has-always-defined-california-an-artist-and-naturalist-reflects-on-whats-different-this-time/\"\n",
    "#url = \"https://www.vox.com/recode/21429700/mail-in-voting-registration-absentee-ballot-tracking\"\n",
    "#url = \"https://www.nytimes.com/2020/09/22/world/covid-coronavirus.html?action=click&module=Top%20Stories&pgtype=Homepage\"\n",
    "#url = \"https://www.nbcnews.com/news/us-news/canadian-woman-charged-sending-ricin-laced-letter-white-house-n1240760\"\n",
    "#url = \"https://www.washingtonpost.com/business/2020/09/22/democrats-pentagon-covid/\"\n",
    "#url = \"https://www.abcnews.go.com/Politics/trump-bashes-china-amid-warnings-world-divided-superpowers/story?id=73166119&cid=clicksource_4380645_4_mobile_web_only_headlines_headlines_hed\"\n",
    "#url = \"https://www.economist.com/business/2020/09/19/how-do-you-stop-corporate-fraud\"\n",
    "#url = \"https://www.thecanary.co/breaking-news/2020/09/22/hs2-breaks-its-promise-and-evicts-a-communitys-beloved-nature-reserve-without-warning/\"\n",
    "#url = \"https://www.spiked-online.com/podcast-episode/we-should-all-be-populists/\"\n",
    "#url = \"https://www.spiked-online.com/podcast-episode/am-i-a-right-wing-comic/\"\n",
    "#url = \"https://www.theguardian.com/world/2020/sep/23/bristols-colston-hall-renamed-in-wake-of-black-lives-matter-protests\"\n",
    "#url = \"https://www.standard.co.uk/stayingin/tvfilm/sura-bake-off-knocks-cake-floor-a4553801.html\"\n",
    "#url = \"https://www.cbsnews.com/video/louisville-under-state-of-emergency-ahead-of-breonna-taylor-decision/\"\n",
    "#url = \"https://eu.usatoday.com/story/news/politics/2020/09/22/kamala-harris-michigan-voting-2020-election-detroit-flint/3499563001/\"\n",
    "#url = \"https://www.wsj.com/articles/tesla-battery-day-elon-musk-shareholder-meeting-11600802500?mod=hp_lead_pos12\"\n",
    "#url = \"https://socialistworker.co.uk/art/50663/Tories+refuse+to+take+the+blame+for+Covid+19+spike\"\n",
    "#url = \"https://www.pbs.org/newshour/show/barrasso-why-this-supreme-court-battle-is-different-from-that-of-2016\"\n",
    "#url = \"https://apnews.com/7b236c1959dda06a34ef7b98ba43251b\"\n",
    "#url = \"https://www.npr.org/2020/09/22/915818283/formal-ties-with-u-s-not-for-now-says-taiwan-foreign-minister\"\n",
    "#url=\"https://jacobinmag.com/2020/10/canada-first-nations-imperialism-foreign-policy\"\n",
    "#url=\"https://www.theweek.co.uk/108244/everything-you-need-to-know-offshore-migrant-detention-plans\"\n",
    "#url=\"https://www.vanityfair.com/news/2020/09/how-gabby-giffords-survived-a-shot-to-the-head-and-outsmarted-the-nra\"\n",
    "#url=\"https://reason.com/2020/09/30/lockdowns-covid-19-coronavirus-economic-pain-unemployment/\"\n",
    "#url=\"https://www.washingtonexaminer.com/weekly-standard/tuesday-morning-quarterback-the-playoffs-begin-to-take-shape-and-more-on-exaggerated-tv-crime-and-missed-opportunities-in-diplomacy\"\n",
    "#url=\"https://www.dailywire.com/news/fantastic-beasts-actor-eddie-redmayne-denounces-j-k-rowling-attacks-absolutely-disgusting\"\n",
    "#url =\"https://www.infowars.com/rising-star-cyclist-suspended-by-us-team-for-one-word-pro-trump-tweet/\"\n",
    "#url =\"https://thefederalist.com/2020/10/01/daily-caller-editor-google-wont-let-you-see-our-article-even-if-you-search-for-it-by-name/\"\n",
    "#url=\"https://www.washingtontimes.com/news/2020/oct/1/donald-trump-melania-coronavirus-quarantine-after-/\"\n",
    "#url=\"https://www.examinerlive.co.uk/news/west-yorkshire-news/rats-award-winning-kirklees-park-19028789\"\n",
    "#url=\"https://www.theamericanconservative.com/articles/first-debate-full-of-missed-opportunities-for-biden/\"\n",
    "#url=\"https://thehill.com/homenews/administration/519275-trump-i-condemn-all-white-supremacists\"\n",
    "#url=\"https://www.newsmax.com/us/steve-scully-debate-moderator-cspan/2020/10/01/id/989964/\"\n",
    "#url=\"https://radaronline.com/photos/its-gonna-be-me-justin-timberlake-relationship-timeline-revealed/\"\n",
    "#url=\"https://www.palmerreport.com/news/michael-cohen-takes-his-big-swing-at-donald-trump/31577/\"\n",
    "#url=\"https://patribotics.blog/2020/01/03/wikileaks-russian-ties-julian-assanges-forgotten-trips-to-moscow/\"\n",
    "#url=\"https://www.alternet.org/2020/10/we-will-kill-you-video-shows-what-the-proud-boys-gang-is-really-like/\"\n",
    "#url=\"https://www.dailykos.com/stories/2020/10/1/1982592/-Thursday-Night-Owls-An-inaccurate-census-would-be-bad-news-for-American-Indians\"\n",
    "#url=\"https://secondnexus.com/coney-barrett-people-praise-website\"\n",
    "#url=\"https://newrepublic.com/article/159559/noam-chomsky-climate-change-green-new-deal\"\n",
    "#url=\"https://www.buzzfeednews.com/article/kadiagoba/hope-hicks-trump-aide-coronavirus\"\n",
    "#url=\"https://forward.com/culture/408123/how-yiddish-education-got-its-start-in-america-from-zionism-to-socialism/\"\n",
    "#url=\"https://www.newyorker.com/news/news-desk/the-secret-history-of-kimberly-guilfoyles-departure-from-fox\"\n",
    "#url=\"https://jacobinmag.com/2020/10/canada-first-nations-imperialism-foreign-policy\"\n",
    "getText(url)"
   ]
  },
  {
   "cell_type": "code",
   "execution_count": 4,
   "metadata": {},
   "outputs": [
    {
     "data": {
      "text/plain": [
       "Sentiment(polarity=-0.004911616161616184, subjectivity=0.4764078282828284)"
      ]
     },
     "execution_count": 4,
     "metadata": {},
     "output_type": "execute_result"
    }
   ],
   "source": [
    "analysed_text = sentimentAnalysis(url)\n",
    "analysed_text.sentiment"
   ]
  },
  {
   "cell_type": "code",
   "execution_count": 5,
   "metadata": {},
   "outputs": [
    {
     "ename": "NameError",
     "evalue": "name 'news_article' is not defined",
     "output_type": "error",
     "traceback": [
      "\u001b[1;31m---------------------------------------------------------------------------\u001b[0m",
      "\u001b[1;31mNameError\u001b[0m                                 Traceback (most recent call last)",
      "\u001b[1;32m<ipython-input-5-fdd4dc911d4b>\u001b[0m in \u001b[0;36m<module>\u001b[1;34m\u001b[0m\n\u001b[1;32m----> 1\u001b[1;33m \u001b[0mtext\u001b[0m \u001b[1;33m=\u001b[0m \u001b[0mTextBlob\u001b[0m\u001b[1;33m(\u001b[0m\u001b[0mnews_article\u001b[0m\u001b[1;33m.\u001b[0m\u001b[0msummary\u001b[0m\u001b[1;33m)\u001b[0m\u001b[1;33m\u001b[0m\u001b[1;33m\u001b[0m\u001b[0m\n\u001b[0m\u001b[0;32m      2\u001b[0m \u001b[0mprint\u001b[0m\u001b[1;33m(\u001b[0m\u001b[1;34m'Sentiment of the SUMMARY'\u001b[0m\u001b[1;33m)\u001b[0m\u001b[1;33m\u001b[0m\u001b[1;33m\u001b[0m\u001b[0m\n\u001b[0;32m      3\u001b[0m \u001b[0mprint\u001b[0m\u001b[1;33m(\u001b[0m\u001b[0mtext\u001b[0m\u001b[1;33m.\u001b[0m\u001b[0msentiment\u001b[0m\u001b[1;33m)\u001b[0m\u001b[1;33m\u001b[0m\u001b[1;33m\u001b[0m\u001b[0m\n\u001b[0;32m      4\u001b[0m \u001b[1;33m\u001b[0m\u001b[0m\n\u001b[0;32m      5\u001b[0m \u001b[0mprint\u001b[0m\u001b[1;33m(\u001b[0m\u001b[1;34m'Sentiment of the Whole Article'\u001b[0m\u001b[1;33m)\u001b[0m\u001b[1;33m\u001b[0m\u001b[1;33m\u001b[0m\u001b[0m\n",
      "\u001b[1;31mNameError\u001b[0m: name 'news_article' is not defined"
     ]
    }
   ],
   "source": [
    "text = TextBlob(news_article.summary)\n",
    "print('Sentiment of the SUMMARY')\n",
    "print(text.sentiment)\n",
    "\n",
    "print('Sentiment of the Whole Article')\n",
    "print(sentimentAnalysis(url).sentiment)"
   ]
  },
  {
   "cell_type": "code",
   "execution_count": null,
   "metadata": {},
   "outputs": [],
   "source": [
    "#for sentence in analysed_text.sentences:\n",
    "    #print(sentence.sentiment)#.polarity)\n",
    "    #print(sentence)"
   ]
  },
  {
   "cell_type": "code",
   "execution_count": null,
   "metadata": {},
   "outputs": [],
   "source": [
    "news_article = getArticle(url)\n",
    "\n",
    "print('IMAGE')\n",
    "print(news_article.top_image)\n",
    "print('KEYWORDS')\n",
    "print(news_article.keywords)\n",
    "print('SUMMARY')\n",
    "print(news_article.summary)"
   ]
  },
  {
   "cell_type": "code",
   "execution_count": null,
   "metadata": {},
   "outputs": [],
   "source": [
    "### OTHERS\n",
    "#translate\n",
    "#b = TextBlob(news_article.summary)\n",
    "#b.translate(to=\"es\")"
   ]
  },
  {
   "cell_type": "code",
   "execution_count": null,
   "metadata": {},
   "outputs": [],
   "source": []
  },
  {
   "cell_type": "code",
   "execution_count": null,
   "metadata": {},
   "outputs": [],
   "source": []
  }
 ],
 "metadata": {
  "kernelspec": {
   "display_name": "Python 3",
   "language": "python",
   "name": "python3"
  },
  "language_info": {
   "codemirror_mode": {
    "name": "ipython",
    "version": 3
   },
   "file_extension": ".py",
   "mimetype": "text/x-python",
   "name": "python",
   "nbconvert_exporter": "python",
   "pygments_lexer": "ipython3",
   "version": "3.7.6"
  }
 },
 "nbformat": 4,
 "nbformat_minor": 4
}

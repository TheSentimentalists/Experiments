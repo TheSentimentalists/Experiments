{
 "cells": [
  {
   "cell_type": "code",
   "execution_count": 4,
   "metadata": {
    "scrolled": true
   },
   "outputs": [
    {
     "name": "stdout",
     "output_type": "stream",
     "text": [
      "https://www.foxnews.com/politics/graham-senate-gop-votes-confirm-scotus-nominee -0.032812499999999994 0.33541666666666664\n",
      "https://www.breitbart.com/tech/2020/09/22/deleted-bombshell-book-exposing-big-tech-released-today/ 0.09299076773566568 0.46297376093294457\n",
      "https://www.msnbc.com/morning-joe/watch/-we-could-have-done-more-says-mueller-prosecutor-in-new-book-92299845794 0.021645021645021644 0.29675324675324677\n",
      "https://www.huffingtonpost.co.uk/entry/trump-violence-reporters-beautiful-sight_n_5f6ab53ec5b629afbe98284d?ri18n=true 0.2333333333333333 0.4666666666666666\n",
      "https://edition.cnn.com/2020/09/22/asia/japan-mixed-roots-hafu-dst-hnk-intl/index.html 0.05068365049982698 0.3099196555078909\n",
      "https://www.motherjones.com/environment/2020/09/fire-has-always-defined-california-an-artist-and-naturalist-reflects-on-whats-different-this-time/ 0.1543586473516051 0.513711603993294\n",
      "https://www.vox.com/recode/21429700/mail-in-voting-registration-absentee-ballot-tracking 0.1748134936117769 0.5020256210170372\n",
      "https://www.nytimes.com/2020/09/22/world/covid-coronavirus.html?action=click&module=Top%20Stories&pgtype=Homepage 0.22795138888888888 0.48131200396825397\n",
      "https://www.nbcnews.com/news/us-news/canadian-woman-charged-sending-ricin-laced-letter-white-house-n1240760 -0.04619666048237477 0.3443104514533086\n",
      "https://www.washingtonpost.com/business/2020/09/22/democrats-pentagon-covid/ 0.08522727272727272 0.23825757575757578\n",
      "https://abcnews.go.com/Politics/trump-bashes-china-amid-warnings-world-divided-superpowers/story?id=73166119&cid=clicksource_4380645_4_mobile_web_only_headlines_headlines_hed 0.06566804407713499 0.40414600550964175\n",
      "https://www.cbsnews.com/video/louisville-under-state-of-emergency-ahead-of-breonna-taylor-decision/ 0.28125 0.7\n",
      "https://eu.usatoday.com/story/news/politics/2020/09/22/kamala-harris-michigan-voting-2020-election-detroit-flint/3499563001/ 0.04889272913466461 0.37305427547363024\n",
      "https://www.wsj.com/articles/tesla-battery-day-elon-musk-shareholder-meeting-11600802500?mod=hp_lead_pos12 0.18 0.5333333333333334\n",
      "https://www.npr.org/2020/09/22/915818283/formal-ties-with-u-s-not-for-now-says-taiwan-foreign-minister -0.054523809523809516 0.2530952380952381\n",
      "https://apnews.com/7b236c1959dda06a34ef7b98ba43251b 0.08108196082334013 0.42725448242689623\n",
      "https://www.pbs.org/newshour/show/barrasso-why-this-supreme-court-battle-is-different-from-that-of-2016 0.04795918367346939 0.20510204081632652\n",
      "https://www.bbc.co.uk/news/uk-wales-54167804 -0.14166666666666666 0.4916666666666667\n",
      "https://socialistworker.co.uk/art/50663/Tories+refuse+to+take+the+blame+for+Covid+19+spike 0.15185185185185188 0.4495791245791246\n",
      "https://www.spiked-online.com/podcast-episode/we-should-all-be-populists/ -0.04999999999999999 0.8500000000000001\n",
      "http://localhost:8888/notebooks/TheSentimentalistsPythonCode/SentimentAnalysisTest.ipynb -0.07272727272727272 0.39090909090909093\n",
      "https://www.breitbart.com/europe/2020/09/22/leftists-protest-new-migrant-camps-want-illegals-get-more-generous-housing/ 0.024191765681127374 0.41630745141383435\n",
      "https://www.republicworld.com/india-news/law-and-order/in-sushant-case-rhea-chakrabortys-judicial-custody-extended-till-oct.html 0.1169004329004329 0.5074285714285715\n",
      "https://www.ndtv.com/india-news/mistry-family-says-its-time-to-separate-from-tata-group-2299519?pfrom=home-topscroll 0.18 0.5499999999999999\n",
      "https://metro.co.uk/2020/09/21/ftse-100-suffers-worst-day-since-mid-june-as-shares-tumble-over-lockdown-fears-13304315/ -0.0014658782951466121 0.47698324710519846\n",
      "https://www.thesun.co.uk/news/12710493/jeremy-clarkson-task-force-fix-a-bridge/ 0.01221059298754252 0.47239630909355673\n",
      "https://www.msnbc.com/morning-joe/watch/h-r-mcmaster-china-is-a-rival-and-we-need-to-compete-92308549729 0.26 0.26\n",
      "https://www.economist.com/business/2020/09/19/how-do-you-stop-corporate-fraud 0.060574761701522255 0.4839716543237669\n",
      "https://www.theguardian.com/world/2020/sep/23/bristols-colston-hall-renamed-in-wake-of-black-lives-matter-protests 0.13758838383838382 0.4646464646464647\n",
      "https://www.standard.co.uk/stayingin/tvfilm/sura-bake-off-knocks-cake-floor-a4553801.html 0.08433994321091096 0.49931457431457427\n",
      "https://uk.reuters.com/ -0.1 0.4\n",
      "https://www.theweek.co.uk/108244/everything-you-need-to-know-offshore-migrant-detention-plans -0.06262626262626263 0.3751782531194296\n",
      "https://www.vanityfair.com/news/2020/09/how-gabby-giffords-survived-a-shot-to-the-head-and-outsmarted-the-nra 0.18218710542929287 0.4695650703463202\n",
      "https://reason.com/2020/09/30/lockdowns-covid-19-coronavirus-economic-pain-unemployment/ 0.03394381313131313 0.29415909090909087\n",
      "https://www.washingtonexaminer.com/weekly-standard/tuesday-morning-quarterback-the-playoffs-begin-to-take-shape-and-more-on-exaggerated-tv-crime-and-missed-opportunities-in-diplomacy 0.053441061407728155 0.4036714618714617\n",
      "https://www.dailywire.com/news/fantastic-beasts-actor-eddie-redmayne-denounces-j-k-rowling-attacks-absolutely-disgusting -0.001174242424242433 0.41330357142857144\n",
      "https://www.infowars.com/rising-star-cyclist-suspended-by-us-team-for-one-word-pro-trump-tweet/ -0.008470967438358748 0.4036231884057971\n",
      "https://thefederalist.com/2020/10/01/daily-caller-editor-google-wont-let-you-see-our-article-even-if-you-search-for-it-by-name/ 0.09732323232323233 0.3587373737373737\n",
      "https://www.washingtontimes.com/news/2020/oct/1/donald-trump-melania-coronavirus-quarantine-after-/ 0.06963408213408215 0.35843503343503347\n",
      "https://www.examinerlive.co.uk/news/west-yorkshire-news/rats-award-winning-kirklees-park-19028789 0.12847026162243552 0.4424974180408964\n",
      "https://www.theamericanconservative.com/articles/first-debate-full-of-missed-opportunities-for-biden/ 0.07057687262232713 0.4627600213639175\n",
      "https://thehill.com/homenews/administration/519275-trump-i-condemn-all-white-supremacists 0.12170604896014732 0.43018124862387147\n",
      "https://www.newsmax.com/us/steve-scully-debate-moderator-cspan/2020/10/01/id/989964/ 0.20723232323232324 0.4666262626262626\n",
      "https://radaronline.com/photos/its-gonna-be-me-justin-timberlake-relationship-timeline-revealed/ 0.19336883876357558 0.5525898078529657\n",
      "https://www.palmerreport.com/news/michael-cohen-takes-his-big-swing-at-donald-trump/31577/ -0.0813406795224977 0.4192516069788797\n",
      "https://patribotics.blog/2020/01/03/wikileaks-russian-ties-julian-assanges-forgotten-trips-to-moscow/ 0.050760346919516454 0.33657963720247436\n",
      "https://www.alternet.org/2020/10/we-will-kill-you-video-shows-what-the-proud-boys-gang-is-really-like/ 0.15411981922398593 0.5037301587301588\n",
      "https://www.dailykos.com/stories/2020/10/1/1982592/-Thursday-Night-Owls-An-inaccurate-census-would-be-bad-news-for-American-Indians 0.060750000000000005 0.3613333333333334\n",
      "https://secondnexus.com/coney-barrett-people-praise-website 0.09682132383745284 0.3768433179723502\n",
      "https://newrepublic.com/article/159559/noam-chomsky-climate-change-green-new-deal -0.005692640692640689 0.3889610389610389\n",
      "https://www.buzzfeednews.com/article/kadiagoba/hope-hicks-trump-aide-coronavirus 0.04965728715728716 0.4280663780663781\n",
      "https://forward.com/culture/408123/how-yiddish-education-got-its-start-in-america-from-zionism-to-socialism/ 0.0806378787878788 0.28815324675324683\n",
      "https://www.newyorker.com/news/news-desk/the-secret-history-of-kimberly-guilfoyles-departure-from-fox 0.10388984031841171 0.4117117009974154\n",
      "https://jacobinmag.com/2020/10/canada-first-nations-imperialism-foreign-policy 0.08453463203463203 0.35637492941840776\n"
     ]
    }
   ],
   "source": [
    "import pandas as pd\n",
    "newspapers=pd.ExcelFile(r'C:\\Users\\jyoth\\TheSentimentalistsPythonCode\\NewsPapers\\NewsPaper Websites.xlsx')\n",
    "NewsArticles=newspapers.parse('SentimentAnalysis')\n",
    "#NewsArticles.head()\n",
    "#NewsPapers=pd.read_excel(r'C:\\Users\\jyoth\\TheSentimentalistsPythonCode\\NewsPapers\\NewsPaper Websites.xlsx',0)\n",
    "#NewsPapers.head()\n",
    "for key,value in NewsArticles.iteritems():\n",
    "    art=NewsArticles.iloc[:, 3]\n",
    "    #print(art)\n",
    "from textblob import TextBlob\n",
    "from newspaper import Article\n",
    "#url = \"https://metro.co.uk/2020/09/21/ftse-100-suffers-worst-day-since-mid-june-as-shares-tumble-over-lockdown-fears-13304315/\"\n",
    "# article = Article(url)\n",
    "# article.download()\n",
    "# article.parse()\n",
    "# text= article.text\n",
    "#blob = TextBlob(text)\n",
    "# print(blob.polarity)\n",
    "# print(blob.subjectivity)\n",
    "\n",
    "for i in art:\n",
    "    url = i\n",
    "    article = Article(url)\n",
    "    article.download()\n",
    "    article.parse()\n",
    "    text= article.text\n",
    "    blob = TextBlob(text)\n",
    "    p = blob.polarity\n",
    "    s = blob.subjectivity\n",
    "    print(url, p , s)"
   ]
  },
  {
   "cell_type": "code",
   "execution_count": null,
   "metadata": {},
   "outputs": [],
   "source": []
  }
 ],
 "metadata": {
  "kernelspec": {
   "display_name": "Python 3",
   "language": "python",
   "name": "python3"
  },
  "language_info": {
   "codemirror_mode": {
    "name": "ipython",
    "version": 3
   },
   "file_extension": ".py",
   "mimetype": "text/x-python",
   "name": "python",
   "nbconvert_exporter": "python",
   "pygments_lexer": "ipython3",
   "version": "3.7.6"
  }
 },
 "nbformat": 4,
 "nbformat_minor": 4
}

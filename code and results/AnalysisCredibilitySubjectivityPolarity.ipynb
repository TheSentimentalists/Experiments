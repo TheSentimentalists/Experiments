{
 "cells": [
  {
   "cell_type": "code",
   "execution_count": 1,
   "metadata": {
    "scrolled": true
   },
   "outputs": [
    {
     "ename": "KeyError",
     "evalue": "'entities'",
     "output_type": "error",
     "traceback": [
      "\u001b[1;31m---------------------------------------------------------------------------\u001b[0m",
      "\u001b[1;31mKeyError\u001b[0m                                  Traceback (most recent call last)",
      "\u001b[1;32m<ipython-input-1-6653e6fc7480>\u001b[0m in \u001b[0;36m<module>\u001b[1;34m\u001b[0m\n\u001b[0;32m     29\u001b[0m     \u001b[1;32mreturn\u001b[0m\u001b[1;33m(\u001b[0m\u001b[0mp_score\u001b[0m\u001b[1;33m,\u001b[0m \u001b[0mp_category\u001b[0m\u001b[1;33m,\u001b[0m \u001b[0mp_source\u001b[0m\u001b[1;33m)\u001b[0m\u001b[1;33m\u001b[0m\u001b[1;33m\u001b[0m\u001b[0m\n\u001b[0;32m     30\u001b[0m \u001b[0murl\u001b[0m\u001b[1;33m=\u001b[0m\u001b[1;34m\"https://www.foxnews.com/\"\u001b[0m\u001b[1;33m\u001b[0m\u001b[1;33m\u001b[0m\u001b[0m\n\u001b[1;32m---> 31\u001b[1;33m \u001b[0mgetReliabilityScore\u001b[0m\u001b[1;33m(\u001b[0m\u001b[0murl\u001b[0m\u001b[1;33m)\u001b[0m\u001b[1;33m\u001b[0m\u001b[1;33m\u001b[0m\u001b[0m\n\u001b[0m\u001b[0;32m     32\u001b[0m \u001b[1;31m##################################################################################################\u001b[0m\u001b[1;33m\u001b[0m\u001b[1;33m\u001b[0m\u001b[1;33m\u001b[0m\u001b[0m\n\u001b[0;32m     33\u001b[0m \u001b[0mresultsC\u001b[0m \u001b[1;33m=\u001b[0m \u001b[1;33m[\u001b[0m\u001b[1;33m]\u001b[0m\u001b[1;33m\u001b[0m\u001b[1;33m\u001b[0m\u001b[0m\n",
      "\u001b[1;32m<ipython-input-1-6653e6fc7480>\u001b[0m in \u001b[0;36mgetReliabilityScore\u001b[1;34m(url)\u001b[0m\n\u001b[0;32m     16\u001b[0m     \u001b[0mrel_json\u001b[0m \u001b[1;33m=\u001b[0m \u001b[0mreliability_txt\u001b[0m\u001b[1;33m.\u001b[0m\u001b[0mjson\u001b[0m\u001b[1;33m(\u001b[0m\u001b[1;33m)\u001b[0m\u001b[1;33m\u001b[0m\u001b[1;33m\u001b[0m\u001b[0m\n\u001b[0;32m     17\u001b[0m     \u001b[1;31m#print(rel_json)\u001b[0m\u001b[1;33m\u001b[0m\u001b[1;33m\u001b[0m\u001b[1;33m\u001b[0m\u001b[0m\n\u001b[1;32m---> 18\u001b[1;33m     \u001b[1;32mif\u001b[0m \u001b[1;33m(\u001b[0m\u001b[0mrel_json\u001b[0m\u001b[1;33m[\u001b[0m\u001b[1;34m'entities'\u001b[0m\u001b[1;33m]\u001b[0m \u001b[1;33m!=\u001b[0m \u001b[1;33m{\u001b[0m\u001b[1;33m}\u001b[0m\u001b[1;33m)\u001b[0m\u001b[1;33m:\u001b[0m\u001b[1;33m\u001b[0m\u001b[1;33m\u001b[0m\u001b[0m\n\u001b[0m\u001b[0;32m     19\u001b[0m         \u001b[1;32mfor\u001b[0m \u001b[0mitem\u001b[0m \u001b[1;32min\u001b[0m \u001b[0mrel_json\u001b[0m\u001b[1;33m[\u001b[0m\u001b[1;34m'entities'\u001b[0m\u001b[1;33m]\u001b[0m\u001b[1;33m[\u001b[0m\u001b[1;34m'DomainCredibility'\u001b[0m\u001b[1;33m]\u001b[0m\u001b[1;33m:\u001b[0m\u001b[1;33m\u001b[0m\u001b[1;33m\u001b[0m\u001b[0m\n\u001b[0;32m     20\u001b[0m             \u001b[0mp_score\u001b[0m \u001b[1;33m=\u001b[0m \u001b[0mitem\u001b[0m\u001b[1;33m.\u001b[0m\u001b[0mget\u001b[0m\u001b[1;33m(\u001b[0m\u001b[1;34m'credibility-score'\u001b[0m\u001b[1;33m,\u001b[0m \u001b[1;36m0\u001b[0m\u001b[1;33m)\u001b[0m\u001b[1;33m\u001b[0m\u001b[1;33m\u001b[0m\u001b[0m\n",
      "\u001b[1;31mKeyError\u001b[0m: 'entities'"
     ]
    }
   ],
   "source": [
    "import pandas as pd\n",
    "newspapers=pd.ExcelFile(r'C:\\Users\\jyoth\\TheSentimentalistsPythonCode\\NewsPapers\\NewsPaper Websites.xlsx')\n",
    "NewsArticles=newspapers.parse('SentimentAnalysis')\n",
    "for key,value in NewsArticles.iteritems():\n",
    "    art=NewsArticles.iloc[:, 3]\n",
    "    #print(art)\n",
    "from textblob import TextBlob\n",
    "from newspaper import Article\n",
    "\n",
    "#################################################################################################\n",
    "def getReliabilityScore(url):\n",
    "    import requests  \n",
    "    Gate_Source_Cred_API = \"https://cloud-api.gate.ac.uk/process-document/source-credibility?annotations=:DomainCredibility\"\n",
    "    reliability_txt = requests.post(Gate_Source_Cred_API, data = url, headers={'Content-Type': 'text/plain'}, \n",
    "                                    auth=('gc77cl10gevd', 'u7c5eeadladbtro9qul5'))\n",
    "    rel_json = reliability_txt.json()\n",
    "    #print(rel_json)\n",
    "    if (rel_json['entities'] != {}):\n",
    "        for item in rel_json['entities']['DomainCredibility']:\n",
    "            p_score = item.get('credibility-score', 0)\n",
    "            p_category = item.get('credibility-category', '')\n",
    "            p_source = item.get('credibility-source', '')\n",
    "\n",
    "            if item['credibility-source'] == 'Media Bias/Fact Check':\n",
    "                return(p_score, p_category, p_source)\n",
    "    else:\n",
    "        return(-1)\n",
    "    ## in case there is no 'Media Bias/Fact Check' but a different source:\n",
    "    return(p_score, p_category, p_source)\n",
    "url=\"https://www.foxnews.com/\"\n",
    "getReliabilityScore(url)\n",
    "##################################################################################################\n",
    "resultsC = []\n",
    "resultsP = []\n",
    "resultsS = []\n",
    "\n",
    "for i in art:\n",
    "    url = i\n",
    "    #C = getReliabilityScore(url)\n",
    "    article = Article(url)\n",
    "    article.download()\n",
    "    article.parse()\n",
    "    text= article.text\n",
    "    blob = TextBlob(text)\n",
    "    P = blob.polarity\n",
    "    S = blob.subjectivity\n",
    "    #resultsC.append(C)\n",
    "    resultsP.append(P)\n",
    "    resultsS.append(S)\n",
    "print(resultsP)\n",
    "print(resultsS)\n",
    "    "
   ]
  },
  {
   "cell_type": "code",
   "execution_count": null,
   "metadata": {},
   "outputs": [],
   "source": []
  }
 ],
 "metadata": {
  "kernelspec": {
   "display_name": "Python 3",
   "language": "python",
   "name": "python3"
  },
  "language_info": {
   "codemirror_mode": {
    "name": "ipython",
    "version": 3
   },
   "file_extension": ".py",
   "mimetype": "text/x-python",
   "name": "python",
   "nbconvert_exporter": "python",
   "pygments_lexer": "ipython3",
   "version": "3.7.6"
  }
 },
 "nbformat": 4,
 "nbformat_minor": 4
}

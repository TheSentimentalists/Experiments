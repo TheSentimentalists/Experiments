{
 "cells": [
  {
   "cell_type": "code",
   "execution_count": 3,
   "metadata": {},
   "outputs": [],
   "source": [
    "import pandas as pd\n",
    "def getText(url):\n",
    "    from newspaper import Article\n",
    "    ### Getting the Text\n",
    "    article = Article(url)\n",
    "    article.download()\n",
    "    article.parse()\n",
    "    text = article.text\n",
    "    return(text);\n",
    "\n",
    "def sentimentAnalysis(url):\n",
    "    from textblob import TextBlob\n",
    "    text = getText(url)\n",
    "    ### analysing the text \n",
    "    testimonial = TextBlob(text)\n",
    "    return(testimonial);  \n",
    "\n",
    "url = \"https://metro.co.uk/2020/09/21/ftse-100-suffers-worst-day-since-mid-june-as-shares-tumble-over-lockdown-fears-13304315/\"\n",
    "getText(url)\n",
    "\n",
    "polaritySubjectivity= pd.DataFrame(sentimentAnalysis(url).sentiment)  \n",
    "polaritySubjectivity.rename(index={0:'Polarity',1:'Subjectivity'}, inplace=True)\n",
    "polaritySubjectivityResults=polaritySubjectivity.T\n",
    "\n",
    "def getCredibilityScore(url):\n",
    "    import requests\n",
    "    Gate_Source_Cred_API = \"https://cloud-api.gate.ac.uk/process-document/source-credibility?annotations=:DomainCredibility\"\n",
    "    reliability_txt = requests.post(Gate_Source_Cred_API, data = url, headers={'Content-Type': 'text/plain'}, \n",
    "                                    auth=('gc77cl10gevd', 'u7c5eeadladbtro9qul5'))\n",
    "    ## Auth key - Jyothsna\n",
    "    CredibilityText = reliability_txt.json()\n",
    "    if (CredibilityText['entities'] != {}):\n",
    "        for item in CredibilityText['entities']['DomainCredibility']:\n",
    "            CredibilityScore = item.get('credibility-score', 0)\n",
    "            CredibilityCategory = item.get('credibility-category', '')\n",
    "            CredibilitySource = item.get('credibility-source', '')\n",
    "            if item['credibility-source'] == 'Media Bias/Fact Check':\n",
    "                return(url, CredibilityScore, CredibilityCategory, CredibilitySource)\n",
    "    else:\n",
    "        return(\"Not Available\")    \n",
    "    ## in case there is no 'Media Bias/Fact Check' but a different source:\n",
    "    return(url, CredibilityScore, CredibilityCategory, CredibilitySource)\n",
    "\n",
    "#getCredibilityScore(url)\n",
    "credibility= pd.DataFrame(getCredibilityScore(url))  \n",
    "credibility.rename(index={0:'Article',1:'CredibilityScore',2:'CredibilityCategory',3:'CredibilitySource'}, inplace=True)\n",
    "credibilityResults=credibility.T\n",
    "result = pd.concat([credibilityResults, polaritySubjectivityResults], axis=1, sort=False)\n",
    "#print(result)\n",
    "result.to_excel(\"Measurements.xlsx\", sheet_name='results_1')  \n",
    "result.to_json(r'C:\\Users\\jyoth\\TheSentimentalistsPythonCode\\Measurements.json')"
   ]
  }
 ],
 "metadata": {
  "kernelspec": {
   "display_name": "Python 3",
   "language": "python",
   "name": "python3"
  },
  "language_info": {
   "codemirror_mode": {
    "name": "ipython",
    "version": 3
   },
   "file_extension": ".py",
   "mimetype": "text/x-python",
   "name": "python",
   "nbconvert_exporter": "python",
   "pygments_lexer": "ipython3",
   "version": "3.7.6"
  }
 },
 "nbformat": 4,
 "nbformat_minor": 4
}

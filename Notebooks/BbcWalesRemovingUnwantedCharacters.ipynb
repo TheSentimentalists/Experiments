{
 "cells": [
  {
   "cell_type": "code",
   "execution_count": 10,
   "metadata": {},
   "outputs": [],
   "source": [
    "## the below code is to remove unwanted HTML characters from text resulting of newspaper and textblob libraries\n",
    "## this is part of displaying text from URL on frontend\n",
    "## in the below sample all characters \n",
    "from newspaper import fulltext\n",
    "import pandas as pd\n",
    "import requests\n",
    "html = requests.get(\"https://www.bbc.co.uk/news/uk-wales-54167804\").text\n",
    "text = fulltext(html)\n",
    "bytes = text.encode(encoding='UTF-8')\n",
    "remchar = ['\\n', '.', '(', ')', '\"',',',\"''\",'?','-',':',';',\"'\"]\n",
    "for i in remchar:\n",
    "    text = text.replace(i, '')\n",
    "textli = list(text.split(\" \"))\n",
    "#textli\n",
    "########## output as csv file ##########\n",
    "dict = {'bbcwales':textli}\n",
    "df = pd.DataFrame(dict)  \n",
    "df.to_csv('bbcwalessampleoutput.csv',encoding=\"cp1252\") "
   ]
  },
  {
   "cell_type": "code",
   "execution_count": 3,
   "metadata": {},
   "outputs": [
    {
     "data": {
      "text/plain": [
       "<bound method NDFrame.head of        bbcwales\n",
       "0         Image\n",
       "1     copyright\n",
       "2         Getty\n",
       "3        Images\n",
       "4         Image\n",
       "..          ...\n",
       "931       Radio\n",
       "932       Wales\n",
       "933      Sunday\n",
       "934  Supplement\n",
       "935   programme\n",
       "\n",
       "[936 rows x 1 columns]>"
      ]
     },
     "execution_count": 3,
     "metadata": {},
     "output_type": "execute_result"
    }
   ],
   "source": [
    "df.head"
   ]
  },
  {
   "cell_type": "code",
   "execution_count": 4,
   "metadata": {},
   "outputs": [
    {
     "data": {
      "text/plain": [
       "<bound method NDFrame.tail of        bbcwales\n",
       "0         Image\n",
       "1     copyright\n",
       "2         Getty\n",
       "3        Images\n",
       "4         Image\n",
       "..          ...\n",
       "931       Radio\n",
       "932       Wales\n",
       "933      Sunday\n",
       "934  Supplement\n",
       "935   programme\n",
       "\n",
       "[936 rows x 1 columns]>"
      ]
     },
     "execution_count": 4,
     "metadata": {},
     "output_type": "execute_result"
    }
   ],
   "source": [
    "df.tail"
   ]
  },
  {
   "cell_type": "code",
   "execution_count": 5,
   "metadata": {
    "scrolled": true
   },
   "outputs": [
    {
     "data": {
      "text/plain": [
       "936"
      ]
     },
     "execution_count": 5,
     "metadata": {},
     "output_type": "execute_result"
    }
   ],
   "source": [
    "df.shape\n",
    "df.size"
   ]
  },
  {
   "cell_type": "code",
   "execution_count": 6,
   "metadata": {},
   "outputs": [
    {
     "data": {
      "text/plain": [
       "(936, 1)"
      ]
     },
     "execution_count": 6,
     "metadata": {},
     "output_type": "execute_result"
    }
   ],
   "source": [
    "df.shape"
   ]
  },
  {
   "cell_type": "code",
   "execution_count": 7,
   "metadata": {},
   "outputs": [
    {
     "data": {
      "text/plain": [
       "bbcwales    object\n",
       "dtype: object"
      ]
     },
     "execution_count": 7,
     "metadata": {},
     "output_type": "execute_result"
    }
   ],
   "source": [
    "df.dtypes"
   ]
  },
  {
   "cell_type": "code",
   "execution_count": 8,
   "metadata": {},
   "outputs": [
    {
     "name": "stdout",
     "output_type": "stream",
     "text": [
      "<class 'pandas.core.frame.DataFrame'>\n",
      "RangeIndex: 936 entries, 0 to 935\n",
      "Data columns (total 1 columns):\n",
      " #   Column    Non-Null Count  Dtype \n",
      "---  ------    --------------  ----- \n",
      " 0   bbcwales  936 non-null    object\n",
      "dtypes: object(1)\n",
      "memory usage: 7.4+ KB\n"
     ]
    }
   ],
   "source": [
    "df.info()"
   ]
  },
  {
   "cell_type": "code",
   "execution_count": null,
   "metadata": {},
   "outputs": [],
   "source": []
  }
 ],
 "metadata": {
  "kernelspec": {
   "display_name": "Python 3",
   "language": "python",
   "name": "python3"
  },
  "language_info": {
   "codemirror_mode": {
    "name": "ipython",
    "version": 3
   },
   "file_extension": ".py",
   "mimetype": "text/x-python",
   "name": "python",
   "nbconvert_exporter": "python",
   "pygments_lexer": "ipython3",
   "version": "3.7.6"
  }
 },
 "nbformat": 4,
 "nbformat_minor": 4
}

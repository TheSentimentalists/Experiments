{
 "cells": [
  {
   "cell_type": "code",
   "execution_count": 137,
   "metadata": {},
   "outputs": [],
   "source": [
    "### https://towardsdatascience.com/my-absolute-go-to-for-sentiment-analysis-textblob-3ac3a11d524\n",
    "###\n",
    "### Subjectivity quantifies the amount of personal opinion and factual information\n",
    "### contained in the text. The higher subjectivity means that the text contains\n",
    "### personal opinion rather than factual information.\n",
    "\n",
    "from textblob import TextBlob"
   ]
  },
  {
   "cell_type": "code",
   "execution_count": 138,
   "metadata": {},
   "outputs": [
    {
     "data": {
      "text/plain": [
       "Sentiment(polarity=0.0, subjectivity=0.0)"
      ]
     },
     "execution_count": 138,
     "metadata": {},
     "output_type": "execute_result"
    }
   ],
   "source": []
  },
  {
   "cell_type": "code",
   "execution_count": 139,
   "metadata": {},
   "outputs": [
    {
     "data": {
      "text/plain": [
       "Sentiment(polarity=0.0, subjectivity=0.0)"
      ]
     },
     "execution_count": 139,
     "metadata": {},
     "output_type": "execute_result"
    }
   ],
   "source": []
  },
  {
   "cell_type": "code",
   "execution_count": 140,
   "metadata": {},
   "outputs": [],
   "source": [
    "def getText(url):\n",
    "    from newspaper import Article\n",
    "    ### Getting the Text\n",
    "    article = Article(url)\n",
    "    article.download()\n",
    "    article.parse()\n",
    "    text = article.text\n",
    "    ### Removing unwanted formatting\n",
    "    text = text.replace(\"\\n\\n\", \"\")\n",
    "    text = text.replace(\"Image copyright Getty Images \", \"\")\n",
    "    text = text.replace(\"Image copyright Getty Images/Reuters\", \"\")\n",
    "    text = text.replace(\"Image caption \", \"\")\n",
    "    text = text.replace(\"Media playback is unsupported on your device \", \"\")\n",
    "    text = text.replace(\"Media caption \", \"\")\n",
    "    return(text);\n",
    "\n",
    "def sentimentAnalysis(url):\n",
    "    from textblob import TextBlob\n",
    "    text = getText(url)\n",
    "    ### analysing the text \n",
    "    testimonial = TextBlob(text)\n",
    "    ## use the output as \"analysed_txt.sentiment\" or \"analysed_txt.sentences\"\n",
    "    return(testimonial); \n",
    " \n",
    "def getArticle(url):\n",
    "    from newspaper import Article\n",
    "    ## use the output to get features such as \"article.top_image\", \"article.keywords\", \"article.summary\"    \n",
    "    article = Article(url)\n",
    "    article.download()\n",
    "    article.parse()\n",
    "    article.nlp()\n",
    "    return(article)"
   ]
  },
  {
   "cell_type": "code",
   "execution_count": 141,
   "metadata": {},
   "outputs": [
    {
     "data": {
      "text/plain": [
       "'C ORPORATE SCANDALS occur with depressing regularity, from the accounting misstatements at Enron in 2001 to fake bank accounts at Wells Fargo, uncovered in 2016. In June Wirecard, a German payments processor, revealed that €1.9bn ($2.3bn) was missing from its accounts. What was remarkable about the affair was that the company’s book-keeping had been the subject of sceptical articles in the Financial Times. Yet the initial reaction of BaFin, the German regulator, was to launch an investigation into the newspaper, not the firm.It is clearly difficult for people to recognise when a business is heading off the rails. That can be just as true for managers within a business as for people outside it. Executives can be sideswiped by an unnoticed problem in an individual division or a subsidiary; not all scandals make it on to the front pages.Outright malice is not always the cause. Ethical choices are rarely black or white and individuals are not very good at assessing the purity of their own motivations. In a new book about behavioural biases, “You’re About To Make A Terrible Mistake”, Olivier Sibony of HEC business school in Paris writes that “as soon as there is any ambiguity about a judgment…we reason in a way that is selective enough to serve our interests and yet plausible enough to convince others (and ourselves) that we are not intentionally distorting the facts.” Individuals’ choices are also governed by how others behave; people are more likely to break the speed limit if everyone else is doing so.Philosophers call morally ambiguous decision-making within such internal and external constraints “bounded ethicality”. Inside companies, it can easily mean that a culture of cheating can spread quickly. A seminal paper* by academics at Columbia and Harvard business schools looked at how, in the light of this problem, companies might reduce cheating within their ranks.Their first finding was that individuals are more likely to lie, or commit fraud, when they are set excessively difficult and specific goals. Bounded ethicality, the authors argue, can also operate at an unconscious level. Under pressure, people often do not efficiently analyse information that could otherwise keep them on the straight and narrow.The problem is exacerbated by confirmation bias, a human tendency to seek out facts that back up their pre-existing preferences. Research has found that people given a specific performance target (to reach a 12% annual return over the investment horizon, for example) were more likely to overlook important information about the future performance of investment funds and excessively focus on past performance data.As a result, the authors suggest, “Organisations might decrease intentional unethical behaviour by defining their goals more broadly and by setting goals at levels that are perceived as fair and relatively attainable by employees.” Another tactic is for managers to signal clearly that ethical issues may arise, so that people take them into account when making decisions. In one study, drivers were found to be more honest in reporting their car mileage when they signed an ethics code of conduct at the top of a mileage form (before they entered the distance on the form) than at the bottom (after the figure had been recorded).The Columbia and Harvard researchers conducted a test asking people to act as financial advisers and pick from a range of funds. One part of it used the raw data from funds operated by Bernie Madoff, convicted in 2009 for defrauding investors. The participants did not know the data came from a fraudulent fund. But they did see its high returns and the opaque way it operated. One group was simply asked to recommend a fund; another group was asked to consider which fund made them most suspicious before making their recommendation. The result of this intervention was to decrease the proportion of individuals recommending Mr Madoff’s funds to their clients from 68% to 51%.This figure is still staggeringly high, of course. It might have been reduced further, the academics suggest, if participants could have asked more questions and got more information. Too often, people rush to judgment, which leads them to play down the risks they are taking and the corners they are cutting. And that means scandals are inevitable.* “Reducing bounded ethicality: How to help individuals notice and avoid unethical behaviour,” by Ting Zhang, Pinar Fletcher, Francesca Gino and Max Bazerman'"
      ]
     },
     "execution_count": 141,
     "metadata": {},
     "output_type": "execute_result"
    }
   ],
   "source": [
    "#url = \"https://metro.co.uk/2020/09/21/ftse-100-suffers-worst-day-since-mid-june-as-shares-tumble-over-lockdown-fears-13304315/\"\n",
    "#url = \"https://www.thesun.co.uk/news/12710493/jeremy-clarkson-task-force-fix-a-bridge/\"\n",
    "#url = \"https://www.foxnews.com/politics/graham-senate-gop-votes-confirm-scotus-nominee\"\n",
    "#url = \"https://www.republicworld.com/india-news/law-and-order/in-sushant-case-rhea-chakrabortys-judicial-custody-extended-till-oct.html\"\n",
    "#url = \"https://www.ndtv.com/india-news/mistry-family-says-its-time-to-separate-from-tata-group-2299519?pfrom=home-topscroll\"\n",
    "#url = \"https://www.breitbart.com/tech/2020/09/22/deleted-bombshell-book-exposing-big-tech-released-today\"\n",
    "#url = \"https://www.msnbc.com/morning-joe/watch/h-r-mcmaster-china-is-a-rival-and-we-need-to-compete-92308549729\"\n",
    "#url = \"https://www.bbc.co.uk/news/uk-wales-54167804\"\n",
    "#url = https://www.huffingtonpost.co.uk/entry/trump-violence-reporters-beautiful-sight_n_5f6ab53ec5b629afbe98284d?ri18n=true\"\n",
    "#url = \"https://www.edition.cnn.com/2020/09/22/asia/japan-mixed-roots-hafu-dst-hnk-intl/index.html\"\n",
    "#url = \"https://www.motherjones.com/environment/2020/09/fire-has-always-defined-california-an-artist-and-naturalist-reflects-on-whats-different-this-time/\"\n",
    "#url = \"https://www.vox.com/recode/21429700/mail-in-voting-registration-absentee-ballot-tracking\"\n",
    "#url = \"https://www.nytimes.com/2020/09/22/world/covid-coronavirus.html?action=click&module=Top%20Stories&pgtype=Homepage\"\n",
    "#url = \"https://www.nbcnews.com/news/us-news/canadian-woman-charged-sending-ricin-laced-letter-white-house-n1240760\"\n",
    "#url = \"https://www.washingtonpost.com/business/2020/09/22/democrats-pentagon-covid/\"\n",
    "#url = \"https://www.abcnews.go.com/Politics/trump-bashes-china-amid-warnings-world-divided-superpowers/story?id=73166119&cid=clicksource_4380645_4_mobile_web_only_headlines_headlines_hed\"\n",
    "#url = \"https://www.economist.com/business/2020/09/19/how-do-you-stop-corporate-fraud\"\n",
    "#url = \"https://www.thecanary.co/breaking-news/2020/09/22/hs2-breaks-its-promise-and-evicts-a-communitys-beloved-nature-reserve-without-warning/\"\n",
    "#url = \"https://www.spiked-online.com/podcast-episode/we-should-all-be-populists/\"\n",
    "#url = \"https://www.spiked-online.com/podcast-episode/am-i-a-right-wing-comic/\"\n",
    "#url = \"https://www.theguardian.com/world/2020/sep/23/bristols-colston-hall-renamed-in-wake-of-black-lives-matter-protests\"\n",
    "#url = \"https://www.standard.co.uk/stayingin/tvfilm/sura-bake-off-knocks-cake-floor-a4553801.html\"\n",
    "#url = \"https://www.cbsnews.com/video/louisville-under-state-of-emergency-ahead-of-breonna-taylor-decision/\"\n",
    "#url = \"https://eu.usatoday.com/story/news/politics/2020/09/22/kamala-harris-michigan-voting-2020-election-detroit-flint/3499563001/\"\n",
    "#url = \"https://www.wsj.com/articles/tesla-battery-day-elon-musk-shareholder-meeting-11600802500?mod=hp_lead_pos12\"\n",
    "#url = \"https://socialistworker.co.uk/art/50663/Tories+refuse+to+take+the+blame+for+Covid+19+spike\"\n",
    "#url = \"https://www.pbs.org/newshour/show/barrasso-why-this-supreme-court-battle-is-different-from-that-of-2016\"\n",
    "#url = \"https://apnews.com/7b236c1959dda06a34ef7b98ba43251b\"\n",
    "#url = \"https://www.npr.org/2020/09/22/915818283/formal-ties-with-u-s-not-for-now-says-taiwan-foreign-minister\"\n",
    "getText(url)"
   ]
  },
  {
   "cell_type": "code",
   "execution_count": 142,
   "metadata": {},
   "outputs": [
    {
     "data": {
      "text/plain": [
       "Sentiment(polarity=0.06812765334504466, subjectivity=0.4864056153186587)"
      ]
     },
     "execution_count": 142,
     "metadata": {},
     "output_type": "execute_result"
    }
   ],
   "source": [
    "analysed_text = sentimentAnalysis(url)\n",
    "analysed_text.sentiment"
   ]
  },
  {
   "cell_type": "code",
   "execution_count": 143,
   "metadata": {},
   "outputs": [],
   "source": [
    "#for sentence in analysed_text.sentences:\n",
    "    #print(sentence.sentiment)#.polarity)\n",
    "    #print(sentence)"
   ]
  },
  {
   "cell_type": "code",
   "execution_count": 144,
   "metadata": {},
   "outputs": [
    {
     "name": "stdout",
     "output_type": "stream",
     "text": [
      "IMAGE\n",
      "https://www.economist.com/sites/default/files/images/print-edition/20200919_WBD001_0.jpg\n",
      "KEYWORDS\n",
      "['individuals', 'scandals', 'fund', 'business', 'bartleby', 'likely', 'fraud', 'stop', 'information', 'goals', 'problem', 'funds', 'performance', 'corporate']\n",
      "SUMMARY\n",
      "Yet the initial reaction of BaFin, the German regulator, was to launch an investigation into the newspaper, not the firm.\n",
      "Ethical choices are rarely black or white and individuals are not very good at assessing the purity of their own motivations.\n",
      "Their first finding was that individuals are more likely to lie, or commit fraud, when they are set excessively difficult and specific goals.\n",
      "It might have been reduced further, the academics suggest, if participants could have asked more questions and got more information.\n",
      "* “Reducing bounded ethicality: How to help individuals notice and avoid unethical behaviour,” by Ting Zhang, Pinar Fletcher, Francesca Gino and Max Bazerman\n"
     ]
    }
   ],
   "source": [
    "news_article = getArticle(url)\n",
    "\n",
    "print('IMAGE')\n",
    "print(news_article.top_image)\n",
    "print('KEYWORDS')\n",
    "print(news_article.keywords)\n",
    "print('SUMMARY')\n",
    "print(news_article.summary)"
   ]
  },
  {
   "cell_type": "code",
   "execution_count": 145,
   "metadata": {},
   "outputs": [
    {
     "name": "stdout",
     "output_type": "stream",
     "text": [
      "Sentiment of the SUMMARY\n",
      "Sentiment(polarity=0.08838141025641026, subjectivity=0.4595753205128205)\n",
      "Sentiment of the Whole Article\n",
      "Sentiment(polarity=0.06812765334504466, subjectivity=0.4864056153186587)\n"
     ]
    }
   ],
   "source": [
    "text = TextBlob(news_article.summary)\n",
    "print('Sentiment of the SUMMARY')\n",
    "print(text.sentiment)\n",
    "\n",
    "print('Sentiment of the Whole Article')\n",
    "print(sentimentAnalysis(url).sentiment)"
   ]
  },
  {
   "cell_type": "code",
   "execution_count": 146,
   "metadata": {},
   "outputs": [],
   "source": [
    "### OTHERS\n",
    "#translate\n",
    "#b = TextBlob(news_article.summary)\n",
    "#b.translate(to=\"es\")"
   ]
  },
  {
   "cell_type": "code",
   "execution_count": null,
   "metadata": {},
   "outputs": [],
   "source": []
  },
  {
   "cell_type": "code",
   "execution_count": null,
   "metadata": {},
   "outputs": [],
   "source": []
  }
 ],
 "metadata": {
  "kernelspec": {
   "display_name": "Python 3",
   "language": "python",
   "name": "python3"
  },
  "language_info": {
   "codemirror_mode": {
    "name": "ipython",
    "version": 3
   },
   "file_extension": ".py",
   "mimetype": "text/x-python",
   "name": "python",
   "nbconvert_exporter": "python",
   "pygments_lexer": "ipython3",
   "version": "3.7.6"
  }
 },
 "nbformat": 4,
 "nbformat_minor": 4
}
